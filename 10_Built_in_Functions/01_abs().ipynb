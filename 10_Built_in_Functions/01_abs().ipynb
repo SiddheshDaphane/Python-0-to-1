{
 "cells": [
  {
   "attachments": {},
   "cell_type": "markdown",
   "metadata": {},
   "source": [
    "The Python abs() function return the absolute value. The absolute value of any number is always positive it removes the negative sign of a number in Python. "
   ]
  },
  {
   "cell_type": "code",
   "execution_count": 1,
   "metadata": {},
   "outputs": [
    {
     "name": "stdout",
     "output_type": "stream",
     "text": [
      "Absolute value of integer is:  94\n"
     ]
    }
   ],
   "source": [
    "var = -94\n",
    "print('Absolute value of integer is: ', abs(var))"
   ]
  },
  {
   "cell_type": "code",
   "execution_count": 2,
   "metadata": {},
   "outputs": [
    {
     "name": "stdout",
     "output_type": "stream",
     "text": [
      "Absolute value of float is:  54.26\n"
     ]
    }
   ],
   "source": [
    "float_num = -54.26\n",
    "print('Absolute value of float is: ', abs(float_num))"
   ]
  },
  {
   "cell_type": "code",
   "execution_count": 3,
   "metadata": {},
   "outputs": [
    {
     "name": "stdout",
     "output_type": "stream",
     "text": [
      "Absolute values or magnitude of complex is: 5.0\n"
     ]
    }
   ],
   "source": [
    "complex_num = (3 - 4j)\n",
    "print('Absolute values or magnitude of complex is:', abs(complex_num))"
   ]
  },
  {
   "attachments": {},
   "cell_type": "markdown",
   "metadata": {},
   "source": [
    "## Time-distance calculation "
   ]
  },
  {
   "cell_type": "code",
   "execution_count": 8,
   "metadata": {},
   "outputs": [
    {
     "name": "stdout",
     "output_type": "stream",
     "text": [
      "The value of distance:  45.9\n",
      "The value of time:  2\n"
     ]
    },
    {
     "data": {
      "text/plain": [
       "'Calculated Speed in (km/hr) is 22.95'"
      ]
     },
     "execution_count": 8,
     "metadata": {},
     "output_type": "execute_result"
    }
   ],
   "source": [
    "def cal_speed(dist, time):\n",
    "  print('The value of distance: ',dist)\n",
    "  print('The value of time: ',time)\n",
    "  return (f'Calculated Speed in (km/hr) is {abs(dist/time)}')\n",
    "\n",
    "cal_speed(45.9,2)\n"
   ]
  },
  {
   "cell_type": "code",
   "execution_count": null,
   "metadata": {},
   "outputs": [],
   "source": []
  }
 ],
 "metadata": {
  "kernelspec": {
   "display_name": "base",
   "language": "python",
   "name": "python3"
  },
  "language_info": {
   "codemirror_mode": {
    "name": "ipython",
    "version": 3
   },
   "file_extension": ".py",
   "mimetype": "text/x-python",
   "name": "python",
   "nbconvert_exporter": "python",
   "pygments_lexer": "ipython3",
   "version": "3.9.13"
  },
  "orig_nbformat": 4,
  "vscode": {
   "interpreter": {
    "hash": "e35bb2e3c79095b46db2d2cf20f0213186650ec52b2a529d2197a0fcfde3c5b4"
   }
  }
 },
 "nbformat": 4,
 "nbformat_minor": 2
}
